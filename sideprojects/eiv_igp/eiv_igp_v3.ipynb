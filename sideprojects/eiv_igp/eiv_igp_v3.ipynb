{
 "cells": [
  {
   "cell_type": "code",
   "execution_count": 2,
   "metadata": {},
   "outputs": [],
   "source": [
    "import jax\n",
    "import numpy as np\n",
    "import matplotlib.pyplot as plt"
   ]
  },
  {
   "cell_type": "code",
   "execution_count": 5,
   "metadata": {},
   "outputs": [
    {
     "name": "stdout",
     "output_type": "stream",
     "text": [
      "Matrix M:\n",
      "[[4 2]\n",
      " [2 5]]\n",
      "\n",
      "Vector y:\n",
      "[[1]\n",
      " [2]]\n",
      "\n",
      "Cholesky-based solution:\n",
      "[[0.0625 0.375 ]]\n",
      "\n",
      "Direct solve solution:\n",
      "[[0.0625]\n",
      " [0.375 ]]\n",
      "\n",
      "Difference:\n",
      "0.0\n"
     ]
    }
   ],
   "source": [
    "def matrix_inverse(M, y):\n",
    "    \"\"\"Cholesky factorisation based matrix inversion.\n",
    "    Takes advantage of positive semi-definiteness. If AM=y, solves for A\n",
    "    \"\"\"\n",
    "    L = jax.scipy.linalg.cholesky(M, lower=True)\n",
    "\n",
    "    # First solve Lz = y for z\n",
    "    z = jax.scipy.linalg.solve_triangular(L, y, lower=True)\n",
    "\n",
    "    # Then solve L^T A^T = z for A^T\n",
    "    A = jax.scipy.linalg.solve_triangular(L.T, z, lower=False).T\n",
    "\n",
    "    return A\n",
    "\n",
    "\n",
    "# Test cases\n",
    "test_M = np.array([[4, 2], [2, 5]])  # symmetric positive definite matrix\n",
    "test_y = np.array([[1], [2]])\n",
    "\n",
    "# Compare results\n",
    "chol_inv = matrix_inverse(test_M, test_y)\n",
    "direct_inv = np.linalg.solve(test_M, test_y)\n",
    "\n",
    "print(\"Matrix M:\")\n",
    "print(test_M)\n",
    "print(\"\\nVector y:\")\n",
    "print(test_y)\n",
    "print(\"\\nCholesky-based solution:\")\n",
    "print(chol_inv)\n",
    "print(\"\\nDirect solve solution:\")\n",
    "print(direct_inv)\n",
    "print(\"\\nDifference:\")\n",
    "print(np.abs(chol_inv.flatten() - direct_inv.flatten()).max())\n"
   ]
  },
  {
   "cell_type": "code",
   "execution_count": null,
   "metadata": {},
   "outputs": [],
   "source": []
  }
 ],
 "metadata": {
  "kernelspec": {
   "display_name": "autogen",
   "language": "python",
   "name": "python3"
  },
  "language_info": {
   "codemirror_mode": {
    "name": "ipython",
    "version": 3
   },
   "file_extension": ".py",
   "mimetype": "text/x-python",
   "name": "python",
   "nbconvert_exporter": "python",
   "pygments_lexer": "ipython3",
   "version": "3.11.5"
  }
 },
 "nbformat": 4,
 "nbformat_minor": 2
}
